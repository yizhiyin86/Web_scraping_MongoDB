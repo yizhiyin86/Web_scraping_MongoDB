{
 "cells": [
  {
   "cell_type": "markdown",
   "metadata": {},
   "source": [
    "Import Dependencies"
   ]
  },
  {
   "cell_type": "code",
   "execution_count": 11,
   "metadata": {
    "collapsed": true
   },
   "outputs": [],
   "source": [
    "import time\n",
    "from splinter import Browser\n",
    "from bs4 import BeautifulSoup\n",
    "from selenium import webdriver\n",
    "import re \n",
    "import pandas as pd"
   ]
  },
  {
   "cell_type": "markdown",
   "metadata": {},
   "source": [
    "Helper function to get chrome driver initiated"
   ]
  },
  {
   "cell_type": "code",
   "execution_count": 2,
   "metadata": {
    "collapsed": true
   },
   "outputs": [],
   "source": [
    "def init_browser():\n",
    "    # @NOTE: Replace the path with your actual path to the chromedriver\n",
    "    executable_path = {\"executable_path\": \"/usr/local/bin/chromedriver\"}\n",
    "    return Browser(\"chrome\", **executable_path, headless=False)\n",
    "    "
   ]
  },
  {
   "cell_type": "markdown",
   "metadata": {},
   "source": [
    "Get Mars news_data "
   ]
  },
  {
   "cell_type": "code",
   "execution_count": 55,
   "metadata": {},
   "outputs": [
    {
     "name": "stdout",
     "output_type": "stream",
     "text": [
      "debug title is Bound for Mars: Countdown to First Interplanetary Launch from California\n",
      "\n",
      "debug content is On May 5, millions of Californians may witness the historic first interplanetary launch from America’s West Coast.\n",
      "\n",
      "debug title is April  6, 2018\n",
      "\n"
     ]
    }
   ],
   "source": [
    "browser = init_browser()\n",
    "# create surf_data dict that we can insert into mongo\n",
    "news_data = {}\n",
    "\n",
    "# visit mars.nasa.com\n",
    "nasa = \"https://mars.nasa.gov/news/\"\n",
    "browser.visit(nasa)\n",
    "time.sleep(2)\n",
    "html = browser.html\n",
    "\n",
    "# create a soup object from the html\n",
    "news = BeautifulSoup(html, \"html.parser\")\n",
    "\n",
    "#get news title,text,and date as values in the news_data dict\n",
    "news_data['title']=news.find(\"div\", class_=\"content_title\").text\n",
    "print(\"debug title is {}\\n\".format(news_data['title']))\n",
    "\n",
    "news_data['content']=news.find(\"div\", class_=\"article_teaser_body\").text\n",
    "print(\"debug content is {}\\n\".format(news_data['content']))\n",
    "\n",
    "news_data['time']=news.find(\"div\",class_=\"list_date\").text\n",
    "print(\"debug title is {}\\n\".format(news_data['time']))\n",
    "\n"
   ]
  },
  {
   "cell_type": "markdown",
   "metadata": {},
   "source": [
    "Get JPL Mars Space Images - Featured Image"
   ]
  },
  {
   "cell_type": "code",
   "execution_count": 69,
   "metadata": {},
   "outputs": [
    {
     "name": "stdout",
     "output_type": "stream",
     "text": [
      "debug here I am the src of the featured image /spaceimages/images/mediumsize/PIA18897_ip.jpg\n",
      "hey I am the fullsize image link https://www.jpl.nasa.gov/spaceimages/images/largesize/PIA18897_hires.jpg\n"
     ]
    }
   ],
   "source": [
    "#get link and visit\n",
    "picture_link=\"https://www.jpl.nasa.gov/spaceimages/?search=Mars&category=Featured\"\n",
    "browser.visit(picture_link)\n",
    "\n",
    "# The website has the featured_image with a button with the id \"full_image\" and click it \n",
    "button = browser.find_by_id(\"full_image\")\n",
    "button.click()\n",
    "time.sleep(2)\n",
    "html_pic = browser.html\n",
    "#pass it to another beautiful soup object\n",
    "image= BeautifulSoup(html_pic, \"html.parser\")\n",
    "\n",
    "#find the image src of the image\n",
    "#here the image src is just mediumsize\n",
    "image_src=image.find('img',class_='fancybox-image')['src']\n",
    "print(\"debug here I am the src of the featured image {}\".format(image_src))\n",
    "\n",
    "#I exhausted that webpage but really cannot find the large size image of the current image\n",
    "#I can find the next largesize image but not the current one\n",
    "#So I decided to extract the image ID and plugged it in the largesize image link\n",
    "\n",
    "image_id=re.findall('/[a-zA-Z0-9]+_',image_src)[0][1:-1]\n",
    "fullsize_link='https://www.jpl.nasa.gov/spaceimages/images/largesize/{}_hires.jpg'.format(image_id)\n",
    "print('hey I am the fullsize image link {}'.format(fullsize_link))\n",
    "news_data['featured_image']=fullsize_link"
   ]
  },
  {
   "cell_type": "markdown",
   "metadata": {
    "collapsed": true
   },
   "source": [
    "Get Mars Weather"
   ]
  },
  {
   "cell_type": "code",
   "execution_count": 10,
   "metadata": {},
   "outputs": [
    {
     "name": "stdout",
     "output_type": "stream",
     "text": [
      "debug current weather in Marse is Sol 2022 (April 14, 2018), Sunny, high -4C/24F, low -73C/-99F, pressure at 7.19 hPa, daylight 05:27-17:21\n"
     ]
    }
   ],
   "source": [
    "browser = init_browser()\n",
    "weather_link='https://twitter.com/marswxreport?lang=en'\n",
    "browser.visit(weather_link)\n",
    "html_weather=browser.html\n",
    "weather=BeautifulSoup(html_weather,'html.parser')\n",
    "current_weather=weather.find('div',class_='js-tweet-text-container').p.text\n",
    "print('debug current weather in Marse is {}'.format(current_weather))\n",
    "news_data['weather']=current_weather"
   ]
  },
  {
   "cell_type": "markdown",
   "metadata": {},
   "source": [
    "Get Marse facts"
   ]
  },
  {
   "cell_type": "code",
   "execution_count": 20,
   "metadata": {
    "collapsed": true
   },
   "outputs": [],
   "source": [
    "facts_url='https://space-facts.com/mars/'\n",
    "facts_table=pd.read_html(facts_url)[0]\n",
    "facts_table.columns=['Description','Value']\n",
    "facts_table=facts_table.set_index('Description')\n",
    "#put it in the dict\n",
    "news_data['facts_table']=facts_table"
   ]
  },
  {
   "cell_type": "code",
   "execution_count": 49,
   "metadata": {},
   "outputs": [
    {
     "data": {
      "text/plain": [
       "Index(['Value'], dtype='object')"
      ]
     },
     "execution_count": 49,
     "metadata": {},
     "output_type": "execute_result"
    }
   ],
   "source": [
    "facts_table.columns"
   ]
  },
  {
   "cell_type": "markdown",
   "metadata": {},
   "source": [
    "Get Mars Hemispheres images\n"
   ]
  },
  {
   "cell_type": "code",
   "execution_count": 48,
   "metadata": {},
   "outputs": [
    {
     "name": "stdout",
     "output_type": "stream",
     "text": [
      "debug hey my relative path is /cache/images/cfa62af2557222a02478f1fcd781d445_cerberus_enhanced.tif_full.jpg\n",
      "debug hey my full path is https://astrogeology.usgs.gov/cache/images/cfa62af2557222a02478f1fcd781d445_cerberus_enhanced.tif_full.jpg\n",
      "debug hey my title is Cerberus Hemisphere Enhanced\n",
      "hey so far this is my list [{'title': 'Cerberus Hemisphere Enhanced', 'image_url': 'https://astrogeology.usgs.gov/cache/images/cfa62af2557222a02478f1fcd781d445_cerberus_enhanced.tif_full.jpg'}]\n",
      "debug hey my relative path is /cache/images/3cdd1cbf5e0813bba925c9030d13b62e_schiaparelli_enhanced.tif_full.jpg\n",
      "debug hey my full path is https://astrogeology.usgs.gov/cache/images/3cdd1cbf5e0813bba925c9030d13b62e_schiaparelli_enhanced.tif_full.jpg\n",
      "debug hey my title is Schiaparelli Hemisphere Enhanced\n",
      "hey so far this is my list [{'title': 'Cerberus Hemisphere Enhanced', 'image_url': 'https://astrogeology.usgs.gov/cache/images/cfa62af2557222a02478f1fcd781d445_cerberus_enhanced.tif_full.jpg'}, {'title': 'Schiaparelli Hemisphere Enhanced', 'image_url': 'https://astrogeology.usgs.gov/cache/images/3cdd1cbf5e0813bba925c9030d13b62e_schiaparelli_enhanced.tif_full.jpg'}]\n",
      "debug hey my relative path is /cache/images/ae209b4e408bb6c3e67b6af38168cf28_syrtis_major_enhanced.tif_full.jpg\n",
      "debug hey my full path is https://astrogeology.usgs.gov/cache/images/ae209b4e408bb6c3e67b6af38168cf28_syrtis_major_enhanced.tif_full.jpg\n",
      "debug hey my title is Syrtis Major Hemisphere Enhanced\n",
      "hey so far this is my list [{'title': 'Cerberus Hemisphere Enhanced', 'image_url': 'https://astrogeology.usgs.gov/cache/images/cfa62af2557222a02478f1fcd781d445_cerberus_enhanced.tif_full.jpg'}, {'title': 'Schiaparelli Hemisphere Enhanced', 'image_url': 'https://astrogeology.usgs.gov/cache/images/3cdd1cbf5e0813bba925c9030d13b62e_schiaparelli_enhanced.tif_full.jpg'}, {'title': 'Syrtis Major Hemisphere Enhanced', 'image_url': 'https://astrogeology.usgs.gov/cache/images/ae209b4e408bb6c3e67b6af38168cf28_syrtis_major_enhanced.tif_full.jpg'}]\n",
      "debug hey my relative path is /cache/images/7cf2da4bf549ed01c17f206327be4db7_valles_marineris_enhanced.tif_full.jpg\n",
      "debug hey my full path is https://astrogeology.usgs.gov/cache/images/7cf2da4bf549ed01c17f206327be4db7_valles_marineris_enhanced.tif_full.jpg\n",
      "debug hey my title is Valles Marineris Hemisphere Enhanced\n",
      "hey so far this is my list [{'title': 'Cerberus Hemisphere Enhanced', 'image_url': 'https://astrogeology.usgs.gov/cache/images/cfa62af2557222a02478f1fcd781d445_cerberus_enhanced.tif_full.jpg'}, {'title': 'Schiaparelli Hemisphere Enhanced', 'image_url': 'https://astrogeology.usgs.gov/cache/images/3cdd1cbf5e0813bba925c9030d13b62e_schiaparelli_enhanced.tif_full.jpg'}, {'title': 'Syrtis Major Hemisphere Enhanced', 'image_url': 'https://astrogeology.usgs.gov/cache/images/ae209b4e408bb6c3e67b6af38168cf28_syrtis_major_enhanced.tif_full.jpg'}, {'title': 'Valles Marineris Hemisphere Enhanced', 'image_url': 'https://astrogeology.usgs.gov/cache/images/7cf2da4bf549ed01c17f206327be4db7_valles_marineris_enhanced.tif_full.jpg'}]\n"
     ]
    }
   ],
   "source": [
    "browser = init_browser()\n",
    "hemi_url='https://astrogeology.usgs.gov/search/results?q=hemisphere+enhanced&k1=target&v1=Mars'\n",
    "hemi_image_urls=[]\n",
    "browser.visit(hemi_url)\n",
    "\n",
    "# The website has the featured_image with a button with the id \"full_image\" and click it \n",
    "each_hemi_url = browser.find_by_css('div[class=\"description\"] a')\n",
    "href_list=[i['href'] for i in each_hemi_url ]\n",
    "\n",
    "#enter for look to visit all the links to the final full image site\n",
    "for i in href_list:\n",
    "    browser.visit(i)  #visit the full image url\n",
    "    html=browser.html  #connect\n",
    "    #pass it to a beautiful soup object\n",
    "    final_html=BeautifulSoup(html,'html.parser')\n",
    "    #get the relative path\n",
    "    image_relative_path=final_html.find('img',class_='wide-image')['src']\n",
    "    print(\"debug hey my relative path is {}\".format(image_relative_path))\n",
    "    #get full link of the image\n",
    "    image_full_link='https://astrogeology.usgs.gov{}'.format(image_relative_path)\n",
    "    print('debug hey my full path is {}'.format(image_full_link))\n",
    "    #get image title\n",
    "    image_title=final_html.find('h2',class_='title').text\n",
    "    print('debug hey my title is {}'.format(image_title))\n",
    "    hemi_image_urls.append({\"title\":image_title,\"image_url\":image_full_link})\n",
    "    print('hey so far this is my list {}'.format(hemi_image_urls))\n",
    "    time.sleep(2)   # sleep\n",
    "    \n",
    "#put it in the news_data dict\n",
    "news_data['hemi_info']=hemi_image_urls"
   ]
  },
  {
   "cell_type": "code",
   "execution_count": 50,
   "metadata": {
    "collapsed": true
   },
   "outputs": [],
   "source": [
    "dic={'a':1,\"b\":2}"
   ]
  },
  {
   "cell_type": "code",
   "execution_count": 51,
   "metadata": {},
   "outputs": [
    {
     "name": "stdout",
     "output_type": "stream",
     "text": [
      "a 1\n",
      "b 2\n"
     ]
    }
   ],
   "source": [
    "for key,value in dic.items():\n",
    "    print(key,value)"
   ]
  },
  {
   "cell_type": "code",
   "execution_count": null,
   "metadata": {
    "collapsed": true
   },
   "outputs": [],
   "source": []
  }
 ],
 "metadata": {
  "kernelspec": {
   "display_name": "Python [conda env:PythonData]",
   "language": "python",
   "name": "conda-env-PythonData-py"
  },
  "language_info": {
   "codemirror_mode": {
    "name": "ipython",
    "version": 3
   },
   "file_extension": ".py",
   "mimetype": "text/x-python",
   "name": "python",
   "nbconvert_exporter": "python",
   "pygments_lexer": "ipython3",
   "version": "3.6.3"
  }
 },
 "nbformat": 4,
 "nbformat_minor": 2
}
